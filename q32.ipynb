{
 "cells": [
  {
   "cell_type": "code",
   "execution_count": 1,
   "id": "2da67943",
   "metadata": {},
   "outputs": [
    {
     "data": {
      "text/plain": [
       "9-element Vector{Float64}:\n",
       "  4.043568212242911\n",
       " -6.898381404405501\n",
       " -0.642083485456979\n",
       " -2.5194109772423037\n",
       "  4.534258245101618\n",
       " -3.4504076913715473\n",
       "  0.6711695265912145\n",
       " -0.5643178775708894\n",
       "  4.825605452111475"
      ]
     },
     "execution_count": 1,
     "metadata": {},
     "output_type": "execute_result"
    }
   ],
   "source": [
    "#= ts=x1 r=x2 dvpf=x3 cava=x4 oi=x5 d=x6 bb=x7 hp=x8 s=x9\n",
    "\n",
    "x1 - x2 = 11\n",
    "x3 - x4 = 3\n",
    "x5 - x6 = 7\n",
    "x7 - x8 = 2\n",
    "x9 - x6 = 9\n",
    "x8 - x2 = 7\n",
    "x1 - x3 = 5\n",
    "x5 - x8 = 5\n",
    "x4 - x6 = 2\n",
    "x3 - x6 = 2\n",
    "x9 - x2 = 11\n",
    "x5 - x7 = 5\n",
    "x1 - x7 = 3\n",
    "x5 - x4 = 7\n",
    "\n",
    "=#\n",
    "\n",
    "A = [1 -1 0 0 0 0 0 0 0\n",
    "     0 0 1 -1 0 0 0 0 0\n",
    "     0 0 0 0 1 -1 0 0 0\n",
    "     0 0 0 0 0 0 1 -1 0 \n",
    "     0 0 0 0 0 -1 0 0 1\n",
    "     0 -1 0 0 0 0 0 1 0\n",
    "     1 0 -1 0 0 0 0 0 0\n",
    "     0 0 0 0 1 0 0 -1 0\n",
    "     0 0 0 1 0 -1 0 0 0\n",
    "     0 0 1 0 0 -1 0 0 0\n",
    "     0 -1 0 0 0 0 0 0 1\n",
    "     0 0 0 0 1 0 -1 0 0\n",
    "     1 0 0 0 0 0 -1 0 0\n",
    "     0 0 0 -1 1 0 0 0 0]\n",
    "\n",
    "y = [11; 3; 7; 2; 9; 7; 5; 5; 2; 2; 11; 5; 3; 7]\n",
    "\n",
    "c = A \\ y "
   ]
  },
  {
   "cell_type": "code",
   "execution_count": 9,
   "id": "fc601933",
   "metadata": {},
   "outputs": [
    {
     "name": "stdout",
     "output_type": "stream",
     "text": [
      "Ranking dos filmes do melhor para o pior:\n",
      "\n",
      "Shrek\n",
      "Os Incríveis\n",
      "Toy Story\n",
      "Batman Begins\n",
      "Harry Potter\n",
      "De Volta Para o Futuro\n",
      "Curtindo a Vida Adoidado\n",
      "Duna\n",
      "Rocky\n"
     ]
    }
   ],
   "source": [
    "# Lista de nomes de filmes\n",
    "filmes = [\"Toy Story\", \"Rocky\", \"De Volta Para o Futuro\", \"Curtindo a Vida Adoidado\",\n",
    "          \"Os Incríveis\", \"Duna\", \"Batman Begins\", \"Harry Potter\", \"Shrek\"]\n",
    "\n",
    "#associando cada valor ao filme\n",
    "associacao = Dict(filmes[i] => c[i] for i in 1:length(filmes))\n",
    "\n",
    "# Ordenar os filmes pelo valor em ordem decrescente\n",
    "ranking = sort(collect(associacao), by=x -> x[2], rev=true)\n",
    "\n",
    "# Exibir o ranking\n",
    "println(\"Ranking dos filmes do melhor para o pior:\\n\")\n",
    "for (filme, valor) in ranking\n",
    "    println(\"$filme\")\n",
    "end"
   ]
  },
  {
   "cell_type": "code",
   "execution_count": null,
   "id": "3da91eae",
   "metadata": {},
   "outputs": [],
   "source": []
  }
 ],
 "metadata": {
  "kernelspec": {
   "display_name": "Julia 1.10.4",
   "language": "julia",
   "name": "julia-1.10"
  },
  "language_info": {
   "file_extension": ".jl",
   "mimetype": "application/julia",
   "name": "julia",
   "version": "1.10.4"
  }
 },
 "nbformat": 4,
 "nbformat_minor": 5
}
