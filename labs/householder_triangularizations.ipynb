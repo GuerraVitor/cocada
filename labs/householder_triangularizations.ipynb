{
 "cells": [
  {
   "cell_type": "code",
   "execution_count": 26,
   "metadata": {
    "id": "EnUisuSHfBmh"
   },
   "outputs": [],
   "source": [
    "using LinearAlgebrΩ"
   ]
  },
  {
   "cell_type": "code",
   "execution_count": 27,
   "metadata": {
    "id": "-2Zq8UpqfBmm",
    "outputId": "b0f1f6b8-de6a-42c7-9fa3-3795f9aaa680",
    "scrolled": true
   },
   "outputs": [
    {
     "data": {
      "text/plain": [
       "3×3 Matrix{Float64}:\n",
       " 12.0  -51.0    4.0\n",
       "  6.0  167.0  -68.0\n",
       " -4.0   24.0  -41.0"
      ]
     },
     "execution_count": 27,
     "metadata": {},
     "output_type": "execute_result"
    }
   ],
   "source": [
    "A=[12.0 -51 4\n",
    "   6   167 -68\n",
    "   -4 24 -41]\n"
   ]
  },
  {
   "cell_type": "code",
   "execution_count": 28,
   "metadata": {
    "id": "cOyS5d1bfBmp",
    "outputId": "7a492505-ffa9-4e42-9958-759e4cdaf498"
   },
   "outputs": [
    {
     "data": {
      "text/plain": [
       "-1"
      ]
     },
     "execution_count": 28,
     "metadata": {},
     "output_type": "execute_result"
    }
   ],
   "source": [
    "sign(-3)"
   ]
  },
  {
   "cell_type": "code",
   "execution_count": 29,
   "metadata": {
    "id": "YvZFAX9WfBmp",
    "outputId": "25172c9d-06ba-40a1-da64-462ca8df6d20"
   },
   "outputs": [
    {
     "data": {
      "text/plain": [
       "normalizar (generic function with 1 method)"
      ]
     },
     "execution_count": 29,
     "metadata": {},
     "output_type": "execute_result"
    }
   ],
   "source": [
    "function normalizar(z)\n",
    "    return z/norm(z)\n",
    "end"
   ]
  },
  {
   "cell_type": "code",
   "execution_count": 30,
   "metadata": {},
   "outputs": [
    {
     "data": {
      "text/plain": [
       "criaVetorW (generic function with 1 method)"
      ]
     },
     "execution_count": 30,
     "metadata": {},
     "output_type": "execute_result"
    }
   ],
   "source": [
    "function criaVetorW(x, m)\n",
    "    w = zeros(m)               # Cria um vetor de zeros de tamanho m\n",
    "    w[1] = norm(x)             # Define o primeiro elemento como a norma do vetor x\n",
    "    return w                   # Retorna o vetor w\n",
    "end\n"
   ]
  },
  {
   "cell_type": "code",
   "execution_count": 23,
   "metadata": {
    "id": "eLn81QKofBmq",
    "outputId": "e69bb9cb-3b80-44a5-ca0c-cc5b03f7b52a"
   },
   "outputs": [
    {
     "data": {
      "text/plain": [
       "householder (generic function with 1 method)"
      ]
     },
     "execution_count": 23,
     "metadata": {},
     "output_type": "execute_result"
    }
   ],
   "source": [
    "function householder(A)\n",
    "        m,n=size(A)\n",
    "        for k=1:n\n",
    "            x=A[k:m,k] #seleciona a coluna de A que começa na linha k\n",
    "            v=x-norm(x)*[1;zeros(n-k)] # vetor coluna \n",
    "            v=normalizar(v)\n",
    "            for j=1:n\n",
    "                A[j:m,j:n]=A[j:m,j:n]-(2*v*v')*A[j:m,j:n]\n",
    "            end\n",
    "            #b[k:m]=b[k:m]-2*v[k]*v[k]'*b[k:m]'\n",
    "        end\n",
    "        return A #b\n",
    "end"
   ]
  },
  {
   "cell_type": "code",
   "execution_count": 25,
   "metadata": {
    "id": "voYp25oMfBmr",
    "outputId": "b3bcdfa8-977f-4fca-8100-e4a225d59973"
   },
   "outputs": [
    {
     "ename": "LoadError",
     "evalue": "DimensionMismatch: A has dimensions (3,3) but B has dimensions (2,2)",
     "output_type": "error",
     "traceback": [
      "DimensionMismatch: A has dimensions (3,3) but B has dimensions (2,2)",
      "",
      "Stacktrace:",
      " [1] gemm_wrapper!(C::Matrix{Float64}, tA::Char, tB::Char, A::Matrix{Float64}, B::Matrix{Float64}, _add::LinearAlgebra.MulAddMul{true, true, Bool, Bool})",
      "   @ LinearAlgebra ~/.julia/juliaup/julia-1.10.4+0.x64.apple.darwin14/share/julia/stdlib/v1.10/LinearAlgebra/src/matmul.jl:577",
      " [2] generic_matmatmul!",
      "   @ ~/.julia/juliaup/julia-1.10.4+0.x64.apple.darwin14/share/julia/stdlib/v1.10/LinearAlgebra/src/matmul.jl:352 [inlined]",
      " [3] mul!",
      "   @ ~/.julia/juliaup/julia-1.10.4+0.x64.apple.darwin14/share/julia/stdlib/v1.10/LinearAlgebra/src/matmul.jl:263 [inlined]",
      " [4] mul!",
      "   @ ~/.julia/juliaup/julia-1.10.4+0.x64.apple.darwin14/share/julia/stdlib/v1.10/LinearAlgebra/src/matmul.jl:237 [inlined]",
      " [5] *(A::Matrix{Float64}, B::Matrix{Float64})",
      "   @ LinearAlgebra ~/.julia/juliaup/julia-1.10.4+0.x64.apple.darwin14/share/julia/stdlib/v1.10/LinearAlgebra/src/matmul.jl:113",
      " [6] householder(A::Matrix{Float64})",
      "   @ Main ./In[23]:8",
      " [7] top-level scope",
      "   @ In[25]:1"
     ]
    }
   ],
   "source": [
    "householder(A)"
   ]
  },
  {
   "cell_type": "code",
   "execution_count": null,
   "metadata": {
    "id": "Ww5RMHcUfBmt",
    "outputId": "a30ce973-546d-436b-ae3b-b168dedc75e7"
   },
   "outputs": [
    {
     "data": {
      "text/plain": [
       "0.0"
      ]
     },
     "execution_count": 76,
     "metadata": {},
     "output_type": "execute_result"
    }
   ],
   "source": [
    "det(A'*A)"
   ]
  },
  {
   "cell_type": "code",
   "execution_count": null,
   "metadata": {
    "id": "5fDA-DMOfBmr",
    "outputId": "7eedba23-f412-407c-a5d3-13c0cad028a2"
   },
   "outputs": [
    {
     "data": {
      "text/plain": [
       "3×3 Matrix{Float64}:\n",
       " 13.0          26.0  -13.0\n",
       " -8.88178e-16  10.0   20.0\n",
       "  4.44089e-16   0.0  130.0"
      ]
     },
     "execution_count": 90,
     "metadata": {},
     "output_type": "execute_result"
    }
   ],
   "source": [
    "B=[12 24.0 -62\n",
    "   4  14  104\n",
    "   -3 2  -53]\n",
    "householder(B)"
   ]
  },
  {
   "cell_type": "code",
   "execution_count": null,
   "metadata": {
    "id": "tpd7eIAJfBmt",
    "outputId": "bdffa012-96c1-46aa-fd14-a2b738612228"
   },
   "outputs": [
    {
     "data": {
      "text/plain": [
       "2×2 Matrix{Int64}:\n",
       " 10000000000000001  -9999999999999999\n",
       " -9999999999999999  10000000000000001"
      ]
     },
     "execution_count": 84,
     "metadata": {},
     "output_type": "execute_result"
    }
   ],
   "source": [
    "A'*A"
   ]
  },
  {
   "cell_type": "code",
   "execution_count": null,
   "metadata": {
    "id": "0qhQb5r2fBmu",
    "outputId": "074b5c0d-8b7f-40c0-b94f-e12a7acaf732"
   },
   "outputs": [
    {
     "data": {
      "text/plain": [
       "30×20 Matrix{Float64}:\n",
       "  5.50777       0.744791      0.990954     …   0.291942      0.311616\n",
       " -2.77556e-17  -4.95042      -0.09779         -1.79174      -1.0506\n",
       " -5.55112e-17   1.11022e-16   5.09117          0.506945      0.0415043\n",
       " -5.55112e-17  -2.77556e-17  -1.11022e-16     -1.14691      -0.149181\n",
       "  2.22045e-16   0.0          -5.55112e-17      1.76522       0.191632\n",
       "  4.44089e-16   2.77556e-17  -5.55112e-17  …  -1.1997        1.57722\n",
       "  4.44089e-16   4.44089e-16  -5.55112e-17     -2.05505      -0.32691\n",
       " -2.22045e-16   0.0          -5.55112e-17     -0.669403     -0.417447\n",
       "  5.55112e-17  -2.22045e-16   4.44089e-16      0.395111     -0.123114\n",
       " -4.44089e-16   3.46945e-18  -5.55112e-17      0.690918      0.0111639\n",
       "  1.11022e-16   1.11022e-16  -2.22045e-16  …   1.14805      -0.09878\n",
       " -2.22045e-16   2.22045e-16  -4.44089e-16      1.50998      -0.246409\n",
       " -4.44089e-16   5.55112e-17  -1.11022e-16      1.96181      -0.455687\n",
       "  ⋮                                        ⋱                \n",
       " -5.55112e-17  -2.22045e-16   4.44089e-16     -4.0353       -0.0766347\n",
       " -2.22045e-16   0.0          -1.11022e-16     -3.33067e-16   2.66644\n",
       "  5.55112e-17   0.0           2.22045e-16  …  -5.55112e-17   5.55112e-17\n",
       "  2.22045e-16   2.22045e-16   2.22045e-16      8.88178e-16   2.22045e-16\n",
       " -2.22045e-16   0.0           1.38778e-17      4.44089e-16  -2.22045e-16\n",
       " -2.77556e-17   5.55112e-17  -4.44089e-16     -3.33067e-16  -2.22045e-16\n",
       "  5.55112e-17   1.11022e-16  -1.11022e-16      2.22045e-16   2.77556e-17\n",
       "  1.11022e-16   0.0          -2.22045e-16  …   1.11022e-16   2.22045e-16\n",
       " -4.44089e-16   5.55112e-17   5.55112e-17      2.22045e-16   2.22045e-16\n",
       " -1.11022e-16   0.0          -2.22045e-16     -2.22045e-16  -2.77556e-17\n",
       " -4.44089e-16  -1.11022e-16  -2.22045e-16      2.22045e-16   3.46945e-18\n",
       " -2.22045e-16   2.22045e-16  -1.11022e-16     -4.44089e-16   1.11022e-16"
      ]
     },
     "execution_count": 67,
     "metadata": {},
     "output_type": "execute_result"
    }
   ],
   "source": [
    "A=randn(30,20)\n",
    "householder(A)"
   ]
  },
  {
   "cell_type": "code",
   "execution_count": null,
   "metadata": {
    "id": "JF3Uo5nEfBmu",
    "outputId": "cdb03f57-9e6a-4d80-b1bd-cd440a344fde"
   },
   "outputs": [
    {
     "data": {
      "text/plain": [
       "2×2 Matrix{Float64}:\n",
       " -175.0  70.0\n",
       "    0.0  35.0"
      ]
     },
     "execution_count": 29,
     "metadata": {},
     "output_type": "execute_result"
    }
   ],
   "source": [
    "k=2\n",
    "m,n=size(A)\n",
    "x=A[2:3,2]\n",
    "v=norm(x)*[1;zeros(m-k)]+x\n",
    "v=normalizar(v)\n",
    "A[k:m,k:n]=A[k:m,k:n]-2*v*v'*A[k:m,k:n]"
   ]
  },
  {
   "cell_type": "code",
   "execution_count": null,
   "metadata": {
    "id": "Xg7Ak9j5fBmv"
   },
   "outputs": [],
   "source": []
  }
 ],
 "metadata": {
  "colab": {
   "provenance": []
  },
  "kernelspec": {
   "display_name": "Julia 1.10.4",
   "language": "julia",
   "name": "julia-1.10"
  },
  "language_info": {
   "file_extension": ".jl",
   "mimetype": "application/julia",
   "name": "julia",
   "version": "1.10.4"
  }
 },
 "nbformat": 4,
 "nbformat_minor": 4
}
