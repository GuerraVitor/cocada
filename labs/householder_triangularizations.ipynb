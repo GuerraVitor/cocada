{
 "cells": [
  {
   "cell_type": "code",
   "execution_count": null,
   "metadata": {
    "id": "EnUisuSHfBmh"
   },
   "outputs": [],
   "source": [
    "using LinearAlgebra"
   ]
  },
  {
   "cell_type": "code",
   "execution_count": null,
   "metadata": {
    "collapsed": true,
    "id": "-2Zq8UpqfBmm",
    "jupyter": {
     "outputs_hidden": true
    },
    "outputId": "b0f1f6b8-de6a-42c7-9fa3-3795f9aaa680",
    "scrolled": true
   },
   "outputs": [
    {
     "data": {
      "text/plain": [
       "3×3 Matrix{Float64}:\n",
       " 12.0  -51.0    4.0\n",
       "  6.0  167.0  -68.0\n",
       " -4.0   24.0  -41.0"
      ]
     },
     "execution_count": 57,
     "metadata": {},
     "output_type": "execute_result"
    }
   ],
   "source": [
    "A=[12.0 -51 4\n",
    "   6   167 -68\n",
    "   -4 24 -41]\n"
   ]
  },
  {
   "cell_type": "code",
   "execution_count": null,
   "metadata": {
    "id": "GSJYB-SpfBmo",
    "outputId": "2ff9da79-2435-45ab-9cde-e9e5632fcb99"
   },
   "outputs": [
    {
     "data": {
      "text/plain": [
       "3×3 Matrix{Float64}:\n",
       " -14.0   -21.0          14.0\n",
       "   0.0  -175.0          70.0\n",
       "   0.0    -3.55271e-15  35.0"
      ]
     },
     "execution_count": 55,
     "metadata": {},
     "output_type": "execute_result"
    }
   ],
   "source": [
    "A"
   ]
  },
  {
   "cell_type": "code",
   "execution_count": null,
   "metadata": {
    "id": "cOyS5d1bfBmp",
    "outputId": "7a492505-ffa9-4e42-9958-759e4cdaf498"
   },
   "outputs": [
    {
     "data": {
      "text/plain": [
       "-1"
      ]
     },
     "execution_count": 47,
     "metadata": {},
     "output_type": "execute_result"
    }
   ],
   "source": [
    "sign(-3)"
   ]
  },
  {
   "cell_type": "code",
   "execution_count": null,
   "metadata": {
    "id": "YvZFAX9WfBmp",
    "outputId": "25172c9d-06ba-40a1-da64-462ca8df6d20"
   },
   "outputs": [
    {
     "data": {
      "text/plain": [
       "normalizar (generic function with 1 method)"
      ]
     },
     "execution_count": 8,
     "metadata": {},
     "output_type": "execute_result"
    }
   ],
   "source": [
    "function normaliza(z)\n",
    "    return z/norm(z)\n",
    "end"
   ]
  },
  {
   "cell_type": "code",
   "execution_count": null,
   "metadata": {},
   "outputs": [],
   "source": [
    "function criaVetorW(x, m)\n",
    "    w = zeros(m)               # Cria um vetor de zeros de tamanho m\n",
    "    w[1] = norm(x)             # Define o primeiro elemento como a norma do vetor x\n",
    "    return w                   # Retorna o vetor w\n",
    "end\n"
   ]
  },
  {
   "cell_type": "code",
   "execution_count": null,
   "metadata": {},
   "outputs": [],
   "source": []
  },
  {
   "cell_type": "code",
   "execution_count": null,
   "metadata": {
    "id": "eLn81QKofBmq",
    "outputId": "e69bb9cb-3b80-44a5-ca0c-cc5b03f7b52a"
   },
   "outputs": [
    {
     "data": {
      "text/plain": [
       "householder (generic function with 1 method)"
      ]
     },
     "execution_count": 89,
     "metadata": {},
     "output_type": "execute_result"
    }
   ],
   "source": [
    "function householder(A)\n",
    "        m,n=size(A)\n",
    "        for k=1:n\n",
    "            x=A[k:m,k] #seleciona a coluna de A que começa na linha k\n",
    "            v=x-norm(x)*[1;zeros(m-k)] # vetor coluna \n",
    "            v=normalizar(v)\n",
    "            A[k:m,k:n]=A[k:m,k:n]-2*v*(v'*A[k:m,k:n])\n",
    "            #b[k:m]=b[k:m]-2*v[k]*v[k]'*b[k:m]'\n",
    "        end\n",
    "        return A #b\n",
    "end"
   ]
  },
  {
   "cell_type": "code",
   "execution_count": null,
   "metadata": {
    "id": "5fDA-DMOfBmr",
    "outputId": "7eedba23-f412-407c-a5d3-13c0cad028a2"
   },
   "outputs": [
    {
     "data": {
      "text/plain": [
       "3×3 Matrix{Float64}:\n",
       " 13.0          26.0  -13.0\n",
       " -8.88178e-16  10.0   20.0\n",
       "  4.44089e-16   0.0  130.0"
      ]
     },
     "execution_count": 90,
     "metadata": {},
     "output_type": "execute_result"
    }
   ],
   "source": [
    "B=[12 24.0 -62\n",
    "   4  14  104\n",
    "   -3 2  -53]\n",
    "householder(B)"
   ]
  },
  {
   "cell_type": "code",
   "execution_count": null,
   "metadata": {
    "id": "voYp25oMfBmr",
    "outputId": "b3bcdfa8-977f-4fca-8100-e4a225d59973"
   },
   "outputs": [
    {
     "data": {
      "text/plain": [
       "LinearAlgebra.QRCompactWY{Float64, Matrix{Float64}}\n",
       "Q factor:\n",
       "3×3 LinearAlgebra.QRCompactWYQ{Float64, Matrix{Float64}}:\n",
       " -1.0          -6.83214e-17  -3.41607e-17\n",
       "  6.83214e-17  -1.0           8.88178e-17\n",
       " -3.41607e-17   8.88178e-17   1.0\n",
       "R factor:\n",
       "3×3 Matrix{Float64}:\n",
       " -13.0  -26.0   13.0\n",
       "   0.0  -10.0  -20.0\n",
       "   0.0    0.0  130.0"
      ]
     },
     "execution_count": 91,
     "metadata": {},
     "output_type": "execute_result"
    }
   ],
   "source": [
    "qr(B)"
   ]
  },
  {
   "cell_type": "code",
   "execution_count": null,
   "metadata": {
    "id": "wUfiQwVdfBms",
    "outputId": "47ed2086-dd30-4419-a7c0-c27eb319c76b",
    "scrolled": true
   },
   "outputs": [
    {
     "data": {
      "text/plain": [
       "2×2 Matrix{Int64}:\n",
       " 100000000  -100000000\n",
       "         1           1"
      ]
     },
     "execution_count": 78,
     "metadata": {},
     "output_type": "execute_result"
    }
   ],
   "source": [
    "A=[10^8 -10^8\n",
    "   1     1   ]"
   ]
  },
  {
   "cell_type": "code",
   "execution_count": null,
   "metadata": {
    "id": "wwqxAckefBmt",
    "outputId": "0324fe13-cad1-46b6-f8b9-c26f11b6652f"
   },
   "outputs": [
    {
     "data": {
      "text/plain": [
       "2.0e8"
      ]
     },
     "execution_count": 79,
     "metadata": {},
     "output_type": "execute_result"
    }
   ],
   "source": [
    "det(A)"
   ]
  },
  {
   "cell_type": "code",
   "execution_count": null,
   "metadata": {
    "id": "Ww5RMHcUfBmt",
    "outputId": "a30ce973-546d-436b-ae3b-b168dedc75e7"
   },
   "outputs": [
    {
     "data": {
      "text/plain": [
       "0.0"
      ]
     },
     "execution_count": 76,
     "metadata": {},
     "output_type": "execute_result"
    }
   ],
   "source": [
    "det(A'*A)"
   ]
  },
  {
   "cell_type": "code",
   "execution_count": null,
   "metadata": {
    "id": "tpd7eIAJfBmt",
    "outputId": "bdffa012-96c1-46aa-fd14-a2b738612228"
   },
   "outputs": [
    {
     "data": {
      "text/plain": [
       "2×2 Matrix{Int64}:\n",
       " 10000000000000001  -9999999999999999\n",
       " -9999999999999999  10000000000000001"
      ]
     },
     "execution_count": 84,
     "metadata": {},
     "output_type": "execute_result"
    }
   ],
   "source": [
    "A'*A"
   ]
  },
  {
   "cell_type": "code",
   "execution_count": null,
   "metadata": {
    "id": "0qhQb5r2fBmu",
    "outputId": "074b5c0d-8b7f-40c0-b94f-e12a7acaf732"
   },
   "outputs": [
    {
     "data": {
      "text/plain": [
       "30×20 Matrix{Float64}:\n",
       "  5.50777       0.744791      0.990954     …   0.291942      0.311616\n",
       " -2.77556e-17  -4.95042      -0.09779         -1.79174      -1.0506\n",
       " -5.55112e-17   1.11022e-16   5.09117          0.506945      0.0415043\n",
       " -5.55112e-17  -2.77556e-17  -1.11022e-16     -1.14691      -0.149181\n",
       "  2.22045e-16   0.0          -5.55112e-17      1.76522       0.191632\n",
       "  4.44089e-16   2.77556e-17  -5.55112e-17  …  -1.1997        1.57722\n",
       "  4.44089e-16   4.44089e-16  -5.55112e-17     -2.05505      -0.32691\n",
       " -2.22045e-16   0.0          -5.55112e-17     -0.669403     -0.417447\n",
       "  5.55112e-17  -2.22045e-16   4.44089e-16      0.395111     -0.123114\n",
       " -4.44089e-16   3.46945e-18  -5.55112e-17      0.690918      0.0111639\n",
       "  1.11022e-16   1.11022e-16  -2.22045e-16  …   1.14805      -0.09878\n",
       " -2.22045e-16   2.22045e-16  -4.44089e-16      1.50998      -0.246409\n",
       " -4.44089e-16   5.55112e-17  -1.11022e-16      1.96181      -0.455687\n",
       "  ⋮                                        ⋱                \n",
       " -5.55112e-17  -2.22045e-16   4.44089e-16     -4.0353       -0.0766347\n",
       " -2.22045e-16   0.0          -1.11022e-16     -3.33067e-16   2.66644\n",
       "  5.55112e-17   0.0           2.22045e-16  …  -5.55112e-17   5.55112e-17\n",
       "  2.22045e-16   2.22045e-16   2.22045e-16      8.88178e-16   2.22045e-16\n",
       " -2.22045e-16   0.0           1.38778e-17      4.44089e-16  -2.22045e-16\n",
       " -2.77556e-17   5.55112e-17  -4.44089e-16     -3.33067e-16  -2.22045e-16\n",
       "  5.55112e-17   1.11022e-16  -1.11022e-16      2.22045e-16   2.77556e-17\n",
       "  1.11022e-16   0.0          -2.22045e-16  …   1.11022e-16   2.22045e-16\n",
       " -4.44089e-16   5.55112e-17   5.55112e-17      2.22045e-16   2.22045e-16\n",
       " -1.11022e-16   0.0          -2.22045e-16     -2.22045e-16  -2.77556e-17\n",
       " -4.44089e-16  -1.11022e-16  -2.22045e-16      2.22045e-16   3.46945e-18\n",
       " -2.22045e-16   2.22045e-16  -1.11022e-16     -4.44089e-16   1.11022e-16"
      ]
     },
     "execution_count": 67,
     "metadata": {},
     "output_type": "execute_result"
    }
   ],
   "source": [
    "A=randn(30,20)\n",
    "householder(A)"
   ]
  },
  {
   "cell_type": "code",
   "execution_count": null,
   "metadata": {
    "id": "JF3Uo5nEfBmu",
    "outputId": "cdb03f57-9e6a-4d80-b1bd-cd440a344fde"
   },
   "outputs": [
    {
     "data": {
      "text/plain": [
       "2×2 Matrix{Float64}:\n",
       " -175.0  70.0\n",
       "    0.0  35.0"
      ]
     },
     "execution_count": 29,
     "metadata": {},
     "output_type": "execute_result"
    }
   ],
   "source": [
    "k=2\n",
    "m,n=size(A)\n",
    "x=A[2:3,2]\n",
    "v=norm(x)*[1;zeros(m-k)]+x\n",
    "v=normalizar(v)\n",
    "A[k:m,k:n]=A[k:m,k:n]-2*v*v'*A[k:m,k:n]"
   ]
  },
  {
   "cell_type": "code",
   "execution_count": null,
   "metadata": {
    "id": "Xg7Ak9j5fBmv"
   },
   "outputs": [],
   "source": []
  }
 ],
 "metadata": {
  "colab": {
   "provenance": []
  },
  "kernelspec": {
   "display_name": "Julia 1.10.4",
   "language": "julia",
   "name": "julia-1.10"
  },
  "language_info": {
   "file_extension": ".jl",
   "mimetype": "application/julia",
   "name": "julia",
   "version": "1.10.4"
  }
 },
 "nbformat": 4,
 "nbformat_minor": 4
}
