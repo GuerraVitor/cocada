{
 "cells": [
  {
   "cell_type": "code",
   "execution_count": 137,
   "id": "642692e7-3dd3-46b4-80cb-40b065a43b15",
   "metadata": {},
   "outputs": [
    {
     "data": {
      "text/plain": [
       "3-element Vector{Float64}:\n",
       " -62.0\n",
       " 104.0\n",
       " -53.0"
      ]
     },
     "execution_count": 137,
     "metadata": {},
     "output_type": "execute_result"
    }
   ],
   "source": [
    "using LinearAlgebra\n",
    "A = Float64[12 24;\n",
    "    4 14;\n",
    "    -3 2]\n",
    "\n",
    "b = Float64[-62;\n",
    "    104;\n",
    "    -53]\n",
    "    \n"
   ]
  },
  {
   "cell_type": "code",
   "execution_count": 138,
   "id": "3d924d5c-9594-401e-a883-6a8978e3a722",
   "metadata": {},
   "outputs": [
    {
     "data": {
      "text/plain": [
       "householder_transform (generic function with 2 methods)"
      ]
     },
     "execution_count": 138,
     "metadata": {},
     "output_type": "execute_result"
    }
   ],
   "source": [
    "function householder_transform(A, b)\n",
    "    m, n = size(A)  # Obtém as dimensões da matriz A\n",
    "    for k in 1:min(m, n)\n",
    "        # pegando a submatriz começando na linha k e coluna k\n",
    "        a = A[k:m, k]                 # Vetor da coluna k a partir da linha k\n",
    "        w = zeros(m-k+1)              # Cria o vetor w de zeros do mesmo tamanho que a subcoluna\n",
    "        w[1] = norm(a)                # Define o primeiro elemento de w como a norma de a\n",
    "        \n",
    "        # calculando o vetor v como a - w\n",
    "        v = a - w\n",
    "        \n",
    "        # normalizando o vetor v\n",
    "        v = v / norm(v)\n",
    "        \n",
    "        # atualizando a matriz A\n",
    "        A[k:m, k] = w  # atualiza a primeira coluna com w\n",
    "        \n",
    "        # atualiza as demais colunas aplicando a transformação de Householder\n",
    "        for j in k+1:n\n",
    "            A[k:m, j] = A[k:m, j] - 2 * v * (v' * A[k:m, j])\n",
    "        end\n",
    "        \n",
    "        # atualizando o vetor b\n",
    "        b[k:m] = b[k:m] - 2 * v * (v' * b[k:m])\n",
    "    end\n",
    "    return A, b  # retorna a matriz e o vetor b alterados\n",
    "end"
   ]
  },
  {
   "cell_type": "code",
   "execution_count": 139,
   "id": "5114c549-5ec7-4aed-8b8c-845ade7a9877",
   "metadata": {},
   "outputs": [
    {
     "data": {
      "text/plain": [
       "([13.0 26.0; 0.0 10.0; 0.0 0.0], [-12.999999999999993, 20.0, -130.00000000000003])"
      ]
     },
     "execution_count": 139,
     "metadata": {},
     "output_type": "execute_result"
    }
   ],
   "source": [
    "householder(A, b)"
   ]
  },
  {
   "cell_type": "code",
   "execution_count": 145,
   "id": "a97848df-c5b1-4f1f-98f5-db6de3931616",
   "metadata": {},
   "outputs": [
    {
     "data": {
      "text/plain": [
       "subreversa (generic function with 1 method)"
      ]
     },
     "execution_count": 145,
     "metadata": {},
     "output_type": "execute_result"
    }
   ],
   "source": [
    "function subreversa(A, b)\n",
    "    m, n = size(A) #define tamanho de A\n",
    "    x = zeros(m) #aloca vetor x\n",
    "\n",
    "    \n",
    "    for i in m:-1:1\n",
    "        x[i] = (b[i] - sum(A[i, i+1:end] .* x[i+1:end])) / A[i, i]\n",
    "    end\n",
    "    return x;\n",
    "end"
   ]
  },
  {
   "cell_type": "code",
   "execution_count": 147,
   "id": "7dc326c9-879a-41e9-8f1e-8e996f0de511",
   "metadata": {},
   "outputs": [
    {
     "ename": "LoadError",
     "evalue": "BoundsError: attempt to access 3×2 Matrix{Float64} at index [3, 3]",
     "output_type": "error",
     "traceback": [
      "BoundsError: attempt to access 3×2 Matrix{Float64} at index [3, 3]",
      "",
      "Stacktrace:",
      " [1] getindex",
      "   @ ./essentials.jl:14 [inlined]",
      " [2] subreversa(A::Matrix{Float64}, b::Vector{Float64})",
      "   @ Main ./In[145]:7",
      " [3] top-level scope",
      "   @ In[147]:1"
     ]
    }
   ],
   "source": [
    "subreversa(A, b)"
   ]
  },
  {
   "cell_type": "code",
   "execution_count": null,
   "id": "23625261-5e5e-4b88-a586-e98508c6756c",
   "metadata": {},
   "outputs": [],
   "source": []
  }
 ],
 "metadata": {
  "kernelspec": {
   "display_name": "Julia 1.10.4",
   "language": "julia",
   "name": "julia-1.10"
  },
  "language_info": {
   "file_extension": ".jl",
   "mimetype": "application/julia",
   "name": "julia",
   "version": "1.10.4"
  }
 },
 "nbformat": 4,
 "nbformat_minor": 5
}
