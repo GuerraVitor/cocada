{
 "cells": [
  {
   "cell_type": "code",
   "execution_count": 33,
   "id": "f5f11d55-15dd-49ef-8404-213d7e7c8901",
   "metadata": {},
   "outputs": [
    {
     "data": {
      "text/plain": [
       "quadmin (generic function with 1 method)"
      ]
     },
     "execution_count": 33,
     "metadata": {},
     "output_type": "execute_result"
    }
   ],
   "source": [
    "#definindo uma funçao generica que resolve minimos quadrados dado um conjunto de dados e um conjunto de equacoes F de modelo\n",
    "function quadmin(x, y, F)\n",
    "    n = length(x)\n",
    "    p = length(F)\n",
    "    M = zeros(p, p)\n",
    "    c = zeros(p)\n",
    "    for j = 1:p\n",
    "        for k = 1:p\n",
    "            M[j,k] = sum(F[j](x[i]) * F[k](x[i]) for i = 1:n)\n",
    "        end\n",
    "        c[j] = sum(y[i] * F[j](x[i]) for i = 1:n)\n",
    "    end\n",
    "    β = M \\ c\n",
    "    h(x) = sum(F[j](x) * β[j] for j = 1:p)\n",
    "    return β, h\n",
    "end"
   ]
  },
  {
   "cell_type": "code",
   "execution_count": 37,
   "id": "ad9fc6d2-9fd6-480e-bca9-8ffbd4bd00d2",
   "metadata": {},
   "outputs": [
    {
     "data": {
      "text/plain": [
       "15.075689674393786"
      ]
     },
     "execution_count": 37,
     "metadata": {},
     "output_type": "execute_result"
    }
   ],
   "source": [
    "using Plots\n",
    "#definindo variaveis conhecidas\n",
    "t = [0, 90, 150]\n",
    "y = [34.0, 30.0, 25.0]\n",
    "\n",
    "β, modelo = quadmin(t, log.(y .- 20), [x -> 1, x -> x])\n",
    "\n",
    "#retornando os coeficientes para antes da transformação\n",
    "β[1] = exp(β[1])\n",
    "\n",
    "\n"
   ]
  },
  {
   "cell_type": "code",
   "execution_count": 38,
   "id": "cb98b5df-6a2f-4b1a-905a-ab4b54793bf1",
   "metadata": {},
   "outputs": [
    {
     "data": {
      "text/plain": [
       "14.830846778073694"
      ]
     },
     "execution_count": 38,
     "metadata": {},
     "output_type": "execute_result"
    }
   ],
   "source": [
    "modelo.(37)"
   ]
  },
  {
   "cell_type": "code",
   "execution_count": null,
   "id": "a1fbf4b5-611c-4681-ab72-d07dd0e566fd",
   "metadata": {},
   "outputs": [],
   "source": []
  }
 ],
 "metadata": {
  "kernelspec": {
   "display_name": "Julia 1.10.4",
   "language": "julia",
   "name": "julia-1.10"
  },
  "language_info": {
   "file_extension": ".jl",
   "mimetype": "application/julia",
   "name": "julia",
   "version": "1.10.4"
  }
 },
 "nbformat": 4,
 "nbformat_minor": 5
}
