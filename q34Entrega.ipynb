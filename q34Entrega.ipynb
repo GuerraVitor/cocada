{
 "cells": [
  {
   "cell_type": "code",
   "execution_count": 4,
   "id": "fbfa52e7-a9a5-4714-8c97-62ddc611946e",
   "metadata": {},
   "outputs": [
    {
     "data": {
      "text/plain": [
       "Inf"
      ]
     },
     "execution_count": 4,
     "metadata": {},
     "output_type": "execute_result"
    }
   ],
   "source": [
    "#utilizando a funçao apresentada no material para calculo do min quadrado\n",
    "function quadmin(x, y, F)\n",
    "    n = length(x)    #definindo qtde de dados \n",
    "    p = length(F)    #definindo qtde de equaçoes \n",
    "    M = zeros(p, p)  #criando matriz vazia que recebera somatorios\n",
    "    c = zeros(p)     #criando vetor vazio que recebero somatorios\n",
    "    for j = 1:p\n",
    "        for k = 1:p\n",
    "            M[j,k] = sum(F[j](x[i]) * F[k](x[i]) for i = 1:n) #montando a primeira matriz (M)\n",
    "        end\n",
    "        c[j] = sum(y[i] * F[j](x[i]) for i = 1:n) #montando vetor c \n",
    "    end\n",
    "    β = M \\ c #calculando minimos quadrados \n",
    "    h(x) = sum(F[j](x) * β[j] for j = 1:p) #calculando modelo encontrado por minimos quadrados \n",
    "    return β, h\n",
    "end\n",
    "\n",
    "#dados fornecidos\n",
    "t = [0.0, 1.0, 3.0]\n",
    "y = [600, 1400, 3200]\n",
    "\n",
    "alfa, modelo = quadmin(t, log.(y .- 500), [x -> 1, x-> x]) #transformei y em log(y) e fiz minimos quadrados\n",
    "c1 = alfa[2] / log(3) #achando c1\n",
    "beta = [exp(1); exp(3)*c1] #retornando os valores dos coeficientes substituidos para os originais \n",
    "modeloAjustado(x) = 500 + beta[1] * exp(beta[2] * log(3) * c1 * x)  #aplicando \n",
    "\n",
    "modeloAjustado(24700)  "
   ]
  },
  {
   "cell_type": "code",
   "execution_count": null,
   "id": "68b25709-8a0f-4a46-8d44-916e0ed01743",
   "metadata": {},
   "outputs": [],
   "source": []
  },
  {
   "cell_type": "code",
   "execution_count": null,
   "id": "e8d96507-b438-4b28-928a-3a286392466e",
   "metadata": {},
   "outputs": [],
   "source": []
  }
 ],
 "metadata": {
  "kernelspec": {
   "display_name": "Julia 1.10.4",
   "language": "julia",
   "name": "julia-1.10"
  },
  "language_info": {
   "file_extension": ".jl",
   "mimetype": "application/julia",
   "name": "julia",
   "version": "1.10.4"
  }
 },
 "nbformat": 4,
 "nbformat_minor": 5
}
