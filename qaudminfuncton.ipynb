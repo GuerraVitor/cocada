{
 "cells": [
  {
   "cell_type": "code",
   "execution_count": 1,
   "id": "a0a68e38-094e-4e2a-89fd-bfbe90e155fc",
   "metadata": {},
   "outputs": [
    {
     "data": {
      "text/plain": [
       "quadmin (generic function with 1 method)"
      ]
     },
     "execution_count": 1,
     "metadata": {},
     "output_type": "execute_result"
    }
   ],
   "source": [
    "function quadmin(x, y, F)\n",
    "    n = length(x)\n",
    "    p = length(F)\n",
    "    M = zeros(p, p)\n",
    "    c = zeros(p)\n",
    "    for j = 1:p\n",
    "        for k = 1:p\n",
    "            M[j,k] = sum(F[j](x[i]) * F[k](x[i]) for i = 1:n)\n",
    "        end\n",
    "        c[j] = sum(y[i] * F[j](x[i]) for i = 1:n)\n",
    "    end\n",
    "    β = M \\ c\n",
    "    h(x) = sum(F[j](x) * β[j] for j = 1:p)\n",
    "    return β, h\n",
    "end"
   ]
  }
 ],
 "metadata": {
  "kernelspec": {
   "display_name": "Julia 1.10.4",
   "language": "julia",
   "name": "julia-1.10"
  },
  "language_info": {
   "file_extension": ".jl",
   "mimetype": "application/julia",
   "name": "julia",
   "version": "1.10.4"
  }
 },
 "nbformat": 4,
 "nbformat_minor": 5
}
