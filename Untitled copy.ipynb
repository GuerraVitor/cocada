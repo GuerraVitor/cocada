{
 "cells": [
  {
   "cell_type": "code",
   "execution_count": 1,
   "id": "ba2c1835-0f38-4067-9024-65f5b80253e2",
   "metadata": {},
   "outputs": [
    {
     "data": {
      "text/plain": [
       "3×2 Matrix{Int64}:\n",
       " 1  2\n",
       " 3  4\n",
       " 5  6"
      ]
     },
     "execution_count": 1,
     "metadata": {},
     "output_type": "execute_result"
    }
   ],
   "source": [
    "a = [ 1 2\n",
    "    3 4\n",
    "    5 6]\n"
   ]
  },
  {
   "cell_type": "code",
   "execution_count": 3,
   "id": "86699cb3-6056-47d8-bd6b-f7d7dd10c93f",
   "metadata": {
    "scrolled": true
   },
   "outputs": [
    {
     "data": {
      "text/plain": [
       "3×2 Matrix{Int64}:\n",
       " 3  4\n",
       " 5  6\n",
       " 7  8"
      ]
     },
     "execution_count": 3,
     "metadata": {},
     "output_type": "execute_result"
    }
   ],
   "source": [
    "b = a.+2\n"
   ]
  },
  {
   "cell_type": "code",
   "execution_count": null,
   "id": "0e5cbeb2-26f2-4589-b4f6-8b8b1c98d770",
   "metadata": {},
   "outputs": [],
   "source": []
  }
 ],
 "metadata": {
  "kernelspec": {
   "display_name": "Julia 1.10.4",
   "language": "julia",
   "name": "julia-1.10"
  },
  "language_info": {
   "file_extension": ".jl",
   "mimetype": "application/julia",
   "name": "julia",
   "version": "1.10.4"
  }
 },
 "nbformat": 4,
 "nbformat_minor": 5
}
