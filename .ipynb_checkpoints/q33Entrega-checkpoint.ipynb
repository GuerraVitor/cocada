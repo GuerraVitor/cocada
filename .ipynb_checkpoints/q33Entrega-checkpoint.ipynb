{
 "cells": [
  {
   "cell_type": "code",
   "execution_count": 6,
   "id": "155e62af-f585-43fd-8224-04cdf3c2a02f",
   "metadata": {},
   "outputs": [
    {
     "data": {
      "text/plain": [
       "2024-03-29"
      ]
     },
     "execution_count": 6,
     "metadata": {},
     "output_type": "execute_result"
    }
   ],
   "source": [
    "using Dates\n",
    "using Plots\n",
    "\n",
    "# Vetor de datas\n",
    "dias = [\n",
    "    Date(2023, 10, 26), Date(2023, 10, 27), Date(2023, 10, 28), Date(2023, 10, 29), Date(2023, 10, 30),\n",
    "    Date(2023, 11, 5), Date(2023, 11, 6), Date(2023, 11, 7), Date(2023, 11, 8), Date(2023, 11, 9),\n",
    "    Date(2023, 11, 10), Date(2023, 11, 11), Date(2023, 11, 12), Date(2023, 11, 13), Date(2023, 11, 14),\n",
    "    Date(2023, 11, 15), Date(2023, 11, 16), Date(2023, 11, 17), Date(2023, 11, 18), Date(2023, 11, 19),\n",
    "    Date(2023, 11, 20), Date(2023, 11, 21), Date(2023, 11, 22), Date(2023, 11, 23), Date(2023, 11, 24),\n",
    "    Date(2023, 11, 25), Date(2023, 11, 26), Date(2023, 11, 27), Date(2023, 11, 28), Date(2023, 11, 29),\n",
    "    Date(2023, 11, 30), Date(2023, 12, 1), Date(2023, 12, 2), Date(2023, 12, 3), Date(2023, 12, 4),\n",
    "    Date(2023, 12, 5), Date(2023, 12, 6), Date(2023, 12, 7), Date(2023, 12, 8), Date(2023, 12, 9),\n",
    "    Date(2023, 12, 10), Date(2023, 12, 13), Date(2023, 12, 15), Date(2023, 12, 17), Date(2023, 12, 18),\n",
    "    Date(2023, 12, 19), Date(2023, 12, 20), Date(2023, 12, 21), Date(2023, 12, 22), Date(2023, 12, 23),\n",
    "    Date(2023, 12, 24), Date(2023, 12, 25), Date(2023, 12, 26), Date(2023, 12, 27), Date(2023, 12, 28),\n",
    "    Date(2023, 12, 29), Date(2024, 1, 4), Date(2024, 1, 5), Date(2024, 1, 6), Date(2024, 1, 7),\n",
    "    Date(2024, 1, 8), Date(2024, 1, 10), Date(2024, 1, 11), Date(2024, 1, 12), Date(2024, 1, 13),\n",
    "    Date(2024, 1, 14), Date(2024, 1, 15), Date(2024, 1, 16), Date(2024, 1, 17)\n",
    "]\n",
    "\n",
    "# Vetor de pesos\n",
    "A = [\n",
    "    120.6, 121.6, 120.8, 121.4, 121.1, 121.1, 120.4, 120.3, 120.8, 120.6,\n",
    "    119.6, 119.8, 118.7, 120.5, 120.1, 120.2, 120.7, 121.7, 120.7, 120.7,\n",
    "    120.3, 119.4, 119.1, 120.2, 120.7, 120.1, 119.7, 119.2, 119.4, 119.5,\n",
    "    119.0, 118.9, 118.7, 118.3, 118.5, 118.6, 118.8, 118.5, 118.3, 117.8,\n",
    "    118.0, 119.0, 118.4, 116.9, 117.5, 117.4, 117.6, 118.1, 117.3, 117.6,\n",
    "    117.7, 117.6, 117.3, 118.0, 117.8, 117.5, 119.0, 117.6, 116.8, 116.6,\n",
    "    116.9, 116.1, 116.1, 115.8, 115.6, 116.0, 115.4, 115.5, 115.3\n",
    "]\n",
    "\n",
    "scatter(A, dias)\n",
    "\n",
    "dia1 = minimum(dias) # Data inicial\n",
    "y = [Dates.value(date - dia1) + 1 for date in dias] # Transformar as datas em números sequenciais começando em 1\n",
    "\n",
    "#utilizando a funçao apresentada no material para calculo do min quadrado\n",
    "function quadmin(x, y, F)\n",
    "    n = length(x)    #definindo qtde de dados \n",
    "    p = length(F)    #definindo qtde de equaçoes \n",
    "    M = zeros(p, p)  #criando matriz vazia que recebera somatorios\n",
    "    c = zeros(p)     #criando vetor vazio que recebero somatorios\n",
    "    for j = 1:p\n",
    "        for k = 1:p\n",
    "            M[j,k] = sum(F[j](x[i]) * F[k](x[i]) for i = 1:n) #montando a primeira matriz (M)\n",
    "        end\n",
    "        c[j] = sum(y[i] * F[j](x[i]) for i = 1:n)\n",
    "    end\n",
    "    β = M \\ c #calculando minimos quadrados \n",
    "    h(x) = sum(F[j](x) * β[j] for j = 1:p) #calculando modelo encontrado por minimos quadrados \n",
    "    return β, h\n",
    "end\n",
    "\n",
    "Beta, modelo = quadmin(A, y, [x -> 1.0, x -> x])\n",
    "\n",
    "diaProcurado = Int(round(modelo(110))) #transformando o numero encontrado em um inteiro aproximado\n",
    "diaProcurado = dia1 + Day(diaProcurado - 1) #transformando de int para data"
   ]
  },
  {
   "cell_type": "code",
   "execution_count": null,
   "id": "99396cab-1d9b-4b0a-b9ef-c5ccc3be4689",
   "metadata": {},
   "outputs": [],
   "source": []
  }
 ],
 "metadata": {
  "kernelspec": {
   "display_name": "Julia 1.10.4",
   "language": "julia",
   "name": "julia-1.10"
  },
  "language_info": {
   "file_extension": ".jl",
   "mimetype": "application/julia",
   "name": "julia",
   "version": "1.10.4"
  }
 },
 "nbformat": 4,
 "nbformat_minor": 5
}
