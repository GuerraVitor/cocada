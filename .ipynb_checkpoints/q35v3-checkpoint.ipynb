{
 "cells": [
  {
   "cell_type": "code",
   "execution_count": 41,
   "id": "3e91b61b-4bef-4f27-8cce-eadebeeade4c",
   "metadata": {},
   "outputs": [
    {
     "data": {
      "text/plain": [
       "11.46073559218533"
      ]
     },
     "execution_count": 41,
     "metadata": {},
     "output_type": "execute_result"
    }
   ],
   "source": [
    "#utilizando a funçao apresentada no material para calculo do min quadrado\n",
    "function quadmin(x, y, F)\n",
    "    n = length(x)    #definindo qtde de dados \n",
    "    p = length(F)    #definindo qtde de equaçoes \n",
    "    M = zeros(p, p)  #criando matriz vazia que recebera somatorios\n",
    "    c = zeros(p)     #criando vetor vazio que recebero somatorios\n",
    "    for j = 1:p\n",
    "        for k = 1:p\n",
    "            M[j,k] = sum(F[j](x[i]) * F[k](x[i]) for i = 1:n) #montando a primeira matriz (M)\n",
    "        end\n",
    "        c[j] = sum(y[i] * F[j](x[i]) for i = 1:n) #montando vetor c \n",
    "    end\n",
    "    β = M \\ c #calculando minimos quadrados \n",
    "    h(x) = sum(F[j](x) * β[j] for j = 1:p) #calculando modelo encontrado por minimos quadrados \n",
    "    return β, h\n",
    "end\n",
    "\n",
    "#dados fornecidos\n",
    "t = [1000.0, 1090.0, 1250.0]\n",
    "y = [34.0, 30.0, 25.0]\n",
    "\n",
    "alfa, modelo = quadmin(t, log.(y .- 20), [x -> 1, x-> x]) #transformei y em log(y) e fiz minimos quadrados\n",
    "beta = [exp(alfa[1]); alfa[2]] #retornando os valores dos coeficientes substituidos para os originais \n",
    "modeloAjustado(x) = 20 + beta[1] * exp(beta[2] * x) #retornando a funçao ajustada a sua original\n",
    "\n",
    "horaMorte = ((modeloAjustado(37) - 1000)/60) + 15 #calculando a hora do dia em que a morte ocorreu"
   ]
  },
  {
   "cell_type": "code",
   "execution_count": null,
   "id": "f2e57d68-578e-4301-8289-3115c36fc307",
   "metadata": {},
   "outputs": [],
   "source": []
  },
  {
   "cell_type": "code",
   "execution_count": null,
   "id": "deae09d0-da37-4c06-b2c4-a4ef403c7769",
   "metadata": {},
   "outputs": [],
   "source": []
  }
 ],
 "metadata": {
  "kernelspec": {
   "display_name": "Julia 1.10.4",
   "language": "julia",
   "name": "julia-1.10"
  },
  "language_info": {
   "file_extension": ".jl",
   "mimetype": "application/julia",
   "name": "julia",
   "version": "1.10.4"
  }
 },
 "nbformat": 4,
 "nbformat_minor": 5
}
