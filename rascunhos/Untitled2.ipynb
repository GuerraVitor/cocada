{
 "cells": [
  {
   "cell_type": "code",
   "execution_count": null,
   "id": "33a7991c-c2b5-4c26-a2f4-5eb730f637b9",
   "metadata": {},
   "outputs": [],
   "source": [
    "a = [12, 4, -3]\n",
    "b = [24, 14, 2]\n",
    "c = [-62, 104, -53]\n",
    "\n",
    "function achaE(a)\n",
    "    norma = sqrt(sum.(\n"
   ]
  }
 ],
 "metadata": {
  "kernelspec": {
   "display_name": "Julia 1.10.4",
   "language": "julia",
   "name": "julia-1.10"
  },
  "language_info": {
   "file_extension": ".jl",
   "mimetype": "application/julia",
   "name": "julia",
   "version": "1.10.4"
  }
 },
 "nbformat": 4,
 "nbformat_minor": 5
}
