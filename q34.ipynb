{
 "cells": [
  {
   "cell_type": "code",
   "execution_count": 8,
   "id": "400d16c6-99ec-472f-9714-c5845ec115c5",
   "metadata": {},
   "outputs": [
    {
     "data": {
      "text/plain": [
       "quadmin (generic function with 1 method)"
      ]
     },
     "execution_count": 8,
     "metadata": {},
     "output_type": "execute_result"
    }
   ],
   "source": [
    "#definindo uma funçao generica que resolve minimos quadrados dado um conjunto de dados e um conjunto de equacoes F de modelo\n",
    "function quadmin(x, y, F)\n",
    "    n = length(x)\n",
    "    p = length(F)\n",
    "    M = zeros(p, p)\n",
    "    c = zeros(p)\n",
    "    for j = 1:p\n",
    "        for k = 1:p\n",
    "            M[j,k] = sum(F[j](x[i]) * F[k](x[i]) for i = 1:n)\n",
    "        end\n",
    "        c[j] = sum(y[i] * F[j](x[i]) for i = 1:n)\n",
    "    end\n",
    "    β = M \\ c\n",
    "    h(x) = sum(F[j](x) * β[j] for j = 1:p)\n",
    "    return β, h\n",
    "end"
   ]
  },
  {
   "cell_type": "code",
   "execution_count": 7,
   "id": "6779601e-fb1d-422b-a403-1a1f4e560eb7",
   "metadata": {},
   "outputs": [
    {
     "ename": "LoadError",
     "evalue": "ParseError:\n\u001b[90m# Error @ \u001b[0;0m\u001b]8;;file:///Users/vitorguerra/Projects/cocada/In[7]#2:1\u001b\\\u001b[90mIn[7]:2:1\u001b[0;0m\u001b]8;;\u001b\\\nAi = hcat(ones(length(3), A)\n\u001b[90m┌──────────\u001b[0;0m\n\u001b[48;2;120;70;70mC1 = A1 \\ y\u001b[0;0m\n\u001b[48;2;120;70;70mAmodelo = (3.^(C1.*y\u001b[0;0m)) + 500\n\u001b[90m#──────────────────┘ ── \u001b[0;0m\u001b[91mExpected `)`\u001b[0;0m",
     "output_type": "error",
     "traceback": [
      "ParseError:\n\u001b[90m# Error @ \u001b[0;0m\u001b]8;;file:///Users/vitorguerra/Projects/cocada/In[7]#2:1\u001b\\\u001b[90mIn[7]:2:1\u001b[0;0m\u001b]8;;\u001b\\\nAi = hcat(ones(length(3), A)\n\u001b[90m┌──────────\u001b[0;0m\n\u001b[48;2;120;70;70mC1 = A1 \\ y\u001b[0;0m\n\u001b[48;2;120;70;70mAmodelo = (3.^(C1.*y\u001b[0;0m)) + 500\n\u001b[90m#──────────────────┘ ── \u001b[0;0m\u001b[91mExpected `)`\u001b[0;0m",
      "",
      "Stacktrace:",
      " [1] top-level scope",
      "   @ In[7]:2"
     ]
    }
   ],
   "source": [
    "#definindo nossas função \n",
    "T = (37-\n"
   ]
  },
  {
   "cell_type": "code",
   "execution_count": null,
   "id": "9ecc49af-8965-4711-b924-bb28e3df27a8",
   "metadata": {},
   "outputs": [],
   "source": [
    "F = [x -> 3x^j for j = 0 : 1]\n",
    "β, modelo = quadmin(x, y, F)\n",
    "\n",
    "#calculando erro (r) e a Soma dos Quadrados dos Residuos (SQR)\n",
    "r = y - modelo.(x)\n",
    "soma_quadrados = sum(r .^ 2)\n",
    "norma = sqrt(soma_quadrados)\n",
    "SQR = norma\n",
    "E1 = SQR"
   ]
  }
 ],
 "metadata": {
  "kernelspec": {
   "display_name": "Julia 1.10.4",
   "language": "julia",
   "name": "julia-1.10"
  },
  "language_info": {
   "file_extension": ".jl",
   "mimetype": "application/julia",
   "name": "julia",
   "version": "1.10.4"
  }
 },
 "nbformat": 4,
 "nbformat_minor": 5
}
